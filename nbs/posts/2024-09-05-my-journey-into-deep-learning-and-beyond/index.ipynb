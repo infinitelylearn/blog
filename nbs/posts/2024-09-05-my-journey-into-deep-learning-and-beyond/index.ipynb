{
 "cells": [
  {
   "cell_type": "raw",
   "metadata": {},
   "source": [
    "---\n",
    "title: \"To Infinity and Beyond: My Deep Learning Journey\"\n",
    "date: \"2024-09-05\"\n",
    "author: \"Tris\"\n",
    "categories: [explanation]\n",
    "image: \"cover.jpg\"\n",
    "description: \"From Techno to Tensorflow\"\n",
    "toc: true\n",
    "---"
   ]
  },
  {
   "cell_type": "code",
   "execution_count": null,
   "metadata": {},
   "outputs": [],
   "source": [
    "#| default_exp blog"
   ]
  },
  {
   "cell_type": "code",
   "execution_count": null,
   "metadata": {},
   "outputs": [],
   "source": [
    "#| hide\n",
    "from nbdev.showdoc import *"
   ]
  },
  {
   "cell_type": "markdown",
   "metadata": {},
   "source": [
    "## Background\n",
    "\n",
    "Hi, I'm Tris, and welcome to my blog - Infinitely Learn. My background is nothing to do with artificial intelligence, deep learning, or even computer or data science. At uni I studied a BSc in Audio & Recording Technology.\n",
    "\n",
    "One day in the studio we had a guest hardcore techno producer come in to do a workshop. In this class we'd been used to doing things like learning / experimenting with mic technique, acoustics, or recording local indie or jazz bands. This producer asked us to approach problems where we had to start thinking outside the box. Tasks like recreating the US national anthem, but in a hardcore techno style. Usually we aimed to record the cleanest, most detailed and transparent sound possible. For this task though I started to think of any possible way to distort, crush, and break the sound and mess it up as much as possible, aiming to recreate a hardcore kind of sound and texture according to the brief.\n",
    "\n",
    "After the session, he asked me to stay behind and said, \"Whatever you want to do, you can put your mind to it, and you can do it.\" That's stuck with me ever since. It's something I remind myself of—if you're determined enough, willing to adapt and apply yourself creatively, with enough time and practice, you can learn to do anything!\n",
    "\n",
    "I think this applies to **computational learning** as well. Given enough time, training, and creativity in how you approach problems, anything is possible in the realm of artificial intelligence and machine learning."
   ]
  },
  {
   "cell_type": "markdown",
   "metadata": {},
   "source": [
    "## How I Became Interested in Artificial Intelligence\n",
    "\n",
    "A few years back, I got curious about fintech and started reading up on it. That's where I first learned about AI and the massive impact it could have on the economy and society—what they call the Fourth Industrial Revolution. The more I read, the more excited I got about the potential of machine learning and deep learning.\n",
    "\n",
    "During the COVID lockdowns, I had some time on my hands, so I started experimenting with creating various algorithmic trading strategies to backtest. I managed to backtest some strategies that did well for certain periods, but when I tested them over other periods, they completely failed. I realised that algorithmic trading isn't just about building a perfect model; it's about understanding the current market conditions and choosing the right algorithm, and adapting constantly. Plus, it made me aware of the whole challenge of overfitting and the importance of understanding how to avoid it while training machine learning models.\n",
    "\n",
    "This has all been a passion project for me. I'm really excited about what I've been learning recently in the fields of deep learning, reinforcement learning, and quantitative finance, and what lies ahead. I'm keen to keep expanding my knowledge and getting more hands-on experience, and learn how to apply it to real problems."
   ]
  },
  {
   "cell_type": "markdown",
   "metadata": {},
   "source": [
    "## Why I'm Starting This Blog\n",
    "\n",
    "I realised the importance of recording and sharing what you learn to reinforce your understanding and accelerate learning, especially in areas like deep learning and machine learning that can become complex. I'm usually the type of person who loves to dive right into things without stopping to take proper notes. But many times, I have seen how much I learned—then forgot. “You don’t use it, you lose it!” This blog is in part my attempt to address that, helping me document my learning journey to refer back to and build upon.\n",
    "\n",
    "Another reason for this blog is to share my learning with others. Maybe someone out there will find my experiences and insights in machine learning, deep learning, or quantitative finance useful or interesting. It also opens up opportunities for feedback, corrections, or discussions that can further enhance understanding, especially in a field as rapidly evolving as artificial intelligence."
   ]
  },
  {
   "cell_type": "markdown",
   "metadata": {},
   "source": [
    "## The Concept to Infinitely Learn\n",
    "\n",
    "The idea to \"infinitely learn\" came from several sources. One influence was fast.ai's Jeremy Howard who said he spends a portion of every day learning something new, and the book Atomic Habits by James Clear, which emphasises the power of small, consistent actions and continuous learning over time. The main concept is that even if you don't feel like you're making significant progress day by day, you focus on the process not the goal and keep learning by habit and moving forward bit by bit, and the consistent small efforts add up and eventually lead to substantial growth in understanding complex topics like neural networks and data science."
   ]
  },
  {
   "cell_type": "markdown",
   "metadata": {},
   "source": [
    "## My Learning Experiences So Far\n",
    "\n",
    "Last year, I discovered the Harvard CS50x course and dived in. I watched all the lectures at 2x speed, did a few of the assignments, but didn't take many notes. I did this with several other courses and books, including the Fast.ai course, which focuses on deep learning and neural networks. My goal was to cover as much ground as quickly as possible and grasp the overall concepts in computer science, machine learning, and deep learning. Now, to truly understand these concepts and apply them effectively, I'm trying to adopt a more thorough and reflective approach. That's where this blog comes in—as a study tool to help me engage more deeply with the material, from basic algorithms to advanced reinforcement learning techniques."
   ]
  },
  {
   "cell_type": "markdown",
   "metadata": {},
   "source": [
    "## What to Expect from This Blog\n",
    "\n",
    "I'm expecting to explore several key areas in this blog, including:\n",
    "\n",
    "- Deep Learning: Revisiting the Fast.ai course in greater depth, covering topics like neural networks, convolutional neural networks (CNNs), and recurrent neural networks (RNNs).\n",
    "- Machine Learning: Delving into various algorithms, models, and practical applications to build a strong foundation in data science and AI.\n",
    "- Reinforcement Learning: Exploring this fascinating area of artificial intelligence, understanding key concepts, algorithms, and real-world applications in computational learning.\n",
    "- Quantitative Finance: More recently, I've taken an interest in this field. The world of 'quants' fascinates me, as it combines advanced mathematics, computer science, and finance. I'll be sharing my journey into this world and how it intersects with AI and machine learning.\n",
    "\n",
    "The content will vary—sometimes I might post how-to guides or tutorials as I learn new processes or techniques in machine learning or reinforcement learning. Other times, I'll reflect on personal insights and challenges I've faced in my AI learning journey. I don't have a fixed plan for how this blog will evolve, and that's part of what makes this journey into artificial intelligence and computational learning exciting. Sometimes, you just have to **start** without having an exact goal and see where it leads."
   ]
  },
  {
   "cell_type": "markdown",
   "metadata": {},
   "source": [
    "## Join Me on This Journey\n",
    "\n",
    "I'm excited to embark on this journey in AI, deep learning, quantitative finance, and beyond to a new level and share it with anyone who's interested. If you'd like to follow along, you can find [me on X](https://twitter.com/@InfinitelyLearn). I'd love to hear from you and learn together about the fascinating world of machine learning, deep learning, and artificial intelligence.\n",
    "\n",
    "Thank you for joining me on this journey.\n",
    "### To infinity and beyond! ♾️"
   ]
  },
  {
   "cell_type": "code",
   "execution_count": null,
   "metadata": {},
   "outputs": [],
   "source": [
    "#| hide\n",
    "import nbdev; nbdev.nbdev_export()"
   ]
  },
  {
   "cell_type": "code",
   "execution_count": null,
   "metadata": {},
   "outputs": [],
   "source": []
  }
 ],
 "metadata": {
  "kernelspec": {
   "display_name": "python3",
   "language": "python",
   "name": "python3"
  }
 },
 "nbformat": 4,
 "nbformat_minor": 4
}
