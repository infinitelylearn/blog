{
 "cells": [
  {
   "cell_type": "markdown",
   "id": "f38f56e2-f7af-4429-8465-f6bfa04d421d",
   "metadata": {},
   "source": [
    "hello world"
   ]
  },
  {
   "cell_type": "code",
   "execution_count": null,
   "id": "e3b0133d-140d-4a8a-af7f-17fc1487c315",
   "metadata": {},
   "outputs": [],
   "source": []
  }
 ],
 "metadata": {
  "kernelspec": {
   "display_name": "python3",
   "language": "python",
   "name": "python3"
  }
 },
 "nbformat": 4,
 "nbformat_minor": 5
}
